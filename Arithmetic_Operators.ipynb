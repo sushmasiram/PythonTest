{
  "nbformat": 4,
  "nbformat_minor": 0,
  "metadata": {
    "colab": {
      "name": "Arithmetic Operators.ipynb",
      "provenance": []
    },
    "kernelspec": {
      "name": "python3",
      "display_name": "Python 3"
    }
  },
  "cells": [
    {
      "cell_type": "code",
      "metadata": {
        "id": "th2xzXkF7R7M",
        "colab_type": "code",
        "colab": {
          "base_uri": "https://localhost:8080/",
          "height": 68
        },
        "outputId": "6b6b4b07-c7ff-412c-f25e-1544b42b149b"
      },
      "source": [
        "Nb = 24\n",
        "Ng = 21\n",
        "Total = Nb + Ng\n",
        "print (\"Number of boys={},Number of girls={},Total Number of students={}\".format(Nb,Ng,Total))\n",
        "if (Total > 50):\n",
        "  print (\"Number of Students more than 50, We need an additional division\")\n",
        "elif (Total <=50) :\n",
        "  print (\"admissions open\")\n",
        "\n",
        "Desks = int(Total/4)\n",
        "rem = Total%4\n",
        "if (rem > 0):\n",
        "  Desks = Desks + 1\n",
        "else:\n",
        "  print (\"felse\")\n",
        "print (\"The number of desks={}\" .format(Desks))\n"
      ],
      "execution_count": 11,
      "outputs": [
        {
          "output_type": "stream",
          "text": [
            "Number of boys=24,Number of girls=21,Total Number of students=45\n",
            "admissions open\n",
            "The number of desks=12\n"
          ],
          "name": "stdout"
        }
      ]
    }
  ]
}